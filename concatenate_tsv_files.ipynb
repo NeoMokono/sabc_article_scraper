{
 "cells": [
  {
   "cell_type": "code",
   "execution_count": null,
   "metadata": {},
   "outputs": [],
   "source": [
    "import pandas as pd\n",
    "import csv"
   ]
  },
  {
   "cell_type": "code",
   "execution_count": null,
   "metadata": {},
   "outputs": [],
   "source": [
    "dataset_df_1 = pd.read_csv('final6extension/scraped_africa_SABC_150.tsv', sep='\\t', header=0)\n",
    "\n",
    "print(dataset_df_1.size)\n",
    "print(dataset_df_1.shape[0])\n",
    "print(dataset_df_1.shape[1])\n",
    "\n",
    "dataset_df_2 = pd.read_csv('final6extension/scraped_business_SABC_150.tsv', sep='\\t', header=0)\n",
    "\n",
    "\n",
    "print(\"2...\",dataset_df_2.size)\n",
    "print(\"2...\",dataset_df_2.shape[0])\n",
    "print(\"2...\",dataset_df_2.shape[1])\n",
    "\n",
    "\n",
    "dataset_df_3 = pd.read_csv('final6extension/scraped_lifestyle_SABC_150.tsv', sep='\\t', header=0)\n",
    "\n",
    "\n",
    "print(\"3...\",dataset_df_3.size)\n",
    "print(\"3...\",dataset_df_3.shape[0])\n",
    "print(\"3...\",dataset_df_3.shape[1])\n",
    "\n",
    "dataset_df_4 = pd.read_csv('final6extension/scraped_politics_SABC_150.tsv', sep='\\t', header=0)\n",
    "\n",
    "\n",
    "print(\"4...\",dataset_df_4.size)\n",
    "print(\"4...\",dataset_df_4.shape[0])\n",
    "print(\"4...\",dataset_df_4.shape[1])\n",
    "\n",
    "dataset_df_5 = pd.read_csv('final6extension/scraped_sci-tech_SABC_150.tsv', sep='\\t', header=0)\n",
    "\n",
    "\n",
    "print(\"5...\",dataset_df_5.size)\n",
    "print(\"5...\",dataset_df_5.shape[0])\n",
    "print(\"5...\",dataset_df_5.shape[1])\n",
    "\n",
    "dataset_df_6 = pd.read_csv('final6extension/scraped_south-africa_SABC_150.tsv', sep='\\t', header=0)\n",
    "\n",
    "\n",
    "print(\"6...\",dataset_df_6.size)\n",
    "print(\"6...\",dataset_df_6.shape[0])\n",
    "print(\"6...\",dataset_df_6.shape[1])\n",
    "\n",
    "dataset_df_7 = pd.read_csv('final6extension/scraped_sport_SABC_150.tsv', sep='\\t', header=0)\n",
    "\n",
    "\n",
    "print(\"7...\",dataset_df_7.size)\n",
    "print(\"7...\",dataset_df_7.shape[0])\n",
    "print(\"7...\",dataset_df_7.shape[1])\n",
    "\n",
    "dataset_df_8 = pd.read_csv('final6extension/scraped_world_SABC_150.tsv', sep='\\t', header=0)\n",
    "\n",
    "\n",
    "print(\"8...\",dataset_df_8.size)\n",
    "print(\"8...\",dataset_df_8.shape[0])\n",
    "print(\"8...\",dataset_df_8.shape[1])"
   ]
  },
  {
   "cell_type": "code",
   "execution_count": null,
   "metadata": {},
   "outputs": [],
   "source": [
    "frames = [dataset_df_1, dataset_df_2,dataset_df_3, dataset_df_4,dataset_df_5, dataset_df_6,dataset_df_7, dataset_df_8]\n",
    "result_df = pd.concat(frames)"
   ]
  },
  {
   "cell_type": "code",
   "execution_count": null,
   "metadata": {},
   "outputs": [],
   "source": [
    "print(\"3...\",result_df.size)\n",
    "print(\"3...\",result_df.shape[0])\n",
    "print(\"3...\",result_df.shape[1])"
   ]
  },
  {
   "cell_type": "code",
   "execution_count": null,
   "metadata": {},
   "outputs": [],
   "source": [
    "final_df = result_df.drop_duplicates(subset=['source_URL'])"
   ]
  },
  {
   "cell_type": "code",
   "execution_count": null,
   "metadata": {},
   "outputs": [],
   "source": [
    "\n",
    "for i, row in final_df.iterrows():\n",
    "    article_text = row['Text']\n",
    "    article_summary = row['Summary']\n",
    "    # print(row['Summary'])\n",
    "    # print(row['Text'])\n",
    "    \n",
    "    try:\n",
    "        encoded_string = article_text.encode(\"ascii\", \"ignore\")\n",
    "        decode_string = encoded_string.decode() \n",
    "    except:\n",
    "        encoded_string = \"N/A\"\n",
    "        decode_string = \"N/A\"\n",
    "     \n",
    "    final_df.at[i,'Text'] = decode_string\n",
    "    try:\n",
    "        encoded_string = article_summary.encode(\"ascii\", \"ignore\")\n",
    "        decode_string = encoded_string.decode()\n",
    "    except:\n",
    "        encoded_string = \"N/A\"\n",
    "        decode_string = \"N/A\" \n",
    "    final_df.at[i,'Summary'] = decode_string\n",
    "\n",
    "# final_df = result_df.drop(columns=[''])\n"
   ]
  },
  {
   "cell_type": "code",
   "execution_count": null,
   "metadata": {},
   "outputs": [],
   "source": [
    "print(\"4...\",final_df.size)\n",
    "print(\"4...\",final_df.shape[0])\n",
    "print(\"4...\",final_df.shape[1])"
   ]
  },
  {
   "cell_type": "code",
   "execution_count": null,
   "metadata": {},
   "outputs": [],
   "source": [
    "arr = final_df.columns[0]\n",
    "final_df.drop(final_df.columns[0], axis=1, inplace=True)\n",
    "print(\"4...\",final_df.shape[0])\n",
    "print(\"4...\",final_df.shape[1])"
   ]
  },
  {
   "cell_type": "code",
   "execution_count": null,
   "metadata": {},
   "outputs": [],
   "source": [
    "final_df.to_csv('final6extension/articles_SABC_decoded_2_.tsv', sep='\\t')\n",
    "print(\"done conc..........\")"
   ]
  }
 ],
 "metadata": {
  "language_info": {
   "name": "python"
  },
  "orig_nbformat": 4
 },
 "nbformat": 4,
 "nbformat_minor": 2
}
